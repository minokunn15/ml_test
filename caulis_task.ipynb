{
 "cells": [
  {
   "cell_type": "markdown",
   "metadata": {},
   "source": [
    "# 相関係数を算出\n",
    "\n",
    "## 課題点\n",
    "\n",
    "- 名義尺度の変数の扱い\n",
    "\n",
    "## 解決策\n",
    "\n",
    "- SalePriceの平均値を用いて、順序変数に変換しピアソンの積率相関で比較"
   ]
  },
  {
   "cell_type": "code",
   "execution_count": 1,
   "metadata": {},
   "outputs": [
    {
     "name": "stdout",
     "output_type": "stream",
     "text": [
      "----------answer start-----------\n",
      "most correleted feature is OverallQual\n",
      "----------answer end-----------\n"
     ]
    }
   ],
   "source": [
    "import pandas as pd\n",
    "import numpy as np\n",
    "\n",
    "# dataのロード\n",
    "train_data = pd.read_csv(\"dataset/train.csv\")\n",
    "test_data = pd.read_csv(\"dataset/test.csv\")\n",
    "\n",
    "# 説明変数と目的に変数に分ける\n",
    "train_id = train_data[\"Id\"]\n",
    "test_id = test_data[\"Id\"]\n",
    "\n",
    "train_data.drop(\"Id\", axis=1, inplace=True)\n",
    "test_data.drop(\"Id\", axis=1, inplace=True)\n",
    "\n",
    "# 名義尺度と順序（連続）変数を分割する\n",
    "\n",
    "unnominal_scales =  [col for col in train_data.columns if train_data.dtypes[col] != 'object']\n",
    "nominal_scales = [col for col in train_data.columns if train_data.dtypes[col] == 'object']\n",
    "\n",
    "## SalePriceが小さい順に順位を割り充てる\n",
    "def encode(frame, feature):\n",
    "    ordering = pd.DataFrame()\n",
    "    ordering['val'] = frame[feature].unique()\n",
    "    ordering.index = ordering.val\n",
    "    ordering['sp_mean'] = frame[[feature, 'SalePrice']].groupby(feature).mean()['SalePrice']\n",
    "    ordering = ordering.sort_values('sp_mean')\n",
    "    ordering['ordering'] = range(1, ordering.shape[0]+1)\n",
    "    ordering = ordering['ordering'].to_dict()\n",
    "    \n",
    "    for key, val in ordering.items():\n",
    "        frame.loc[frame[feature] == key, feature+'_encode'] = val\n",
    "\n",
    "# 名義尺度に対して順序尺度にエンコードする\n",
    "for nominal_scale in nominal_scales:\n",
    "    encode(train_data, nominal_scale) # train_dataに_encode列が追加される\n",
    "    \n",
    "# 順序尺度（連続尺度）だけ取り出して、相関係数を導く\n",
    "\n",
    "corr_mat = train_data.corr()\n",
    "N = 2 # 最も高い相関関係の特徴量を算出（自身抜かす）\n",
    "cols = corr_mat.nlargest(N, 'SalePrice')['SalePrice'].index\n",
    "cols = [val for val in cols if val != \"SalePrice\"]\n",
    "\n",
    "print(\"----------answer start-----------\")\n",
    "print(\"most correleted feature is {}\".format(cols[0]))\n",
    "print(\"----------answer end-----------\")"
   ]
  },
  {
   "cell_type": "markdown",
   "metadata": {},
   "source": [
    "## 追記\n",
    "\n",
    "- 本来は連続尺度と順序尺度を同じ相関係数の計算方法で求めるべきではない（今回は、一律でピアソンの積率相関係数を用いた）\n",
    "    - 連続尺度では、0と1の差である1という数値には意味があるが、順序尺度では無意味。よって本来は導出が異なる相関係数を求めるべき。\n",
    "    - ただ、別の計算で算出された値を比較することはできないので、厳密にやるとこの問題はとても複雑。"
   ]
  },
  {
   "cell_type": "markdown",
   "metadata": {},
   "source": [
    "# モデリング\n",
    "\n",
    "1. 前処理\n",
    "2. 特徴量作成\n",
    "3. モデリング\n",
    "4. 精度評価"
   ]
  },
  {
   "cell_type": "code",
   "execution_count": 2,
   "metadata": {},
   "outputs": [],
   "source": [
    "# train_dataのカラムを元に戻す\n",
    "remove_columns = [col+\"_encode\" for col in nominal_scales]\n",
    "train_data = train_data.drop(remove_columns, axis=1)"
   ]
  },
  {
   "cell_type": "code",
   "execution_count": 3,
   "metadata": {},
   "outputs": [],
   "source": [
    "# NaNの削除処理\n",
    "\n",
    "all_data = pd.concat((train_data, test_data), sort=False).reset_index(drop=True)\n",
    "train_size = train_data.shape[0]\n",
    "test_size = test_data.shape[0]\n",
    "all_data = all_data.drop([\"SalePrice\"], axis=1)"
   ]
  },
  {
   "cell_type": "code",
   "execution_count": 4,
   "metadata": {},
   "outputs": [
    {
     "name": "stdout",
     "output_type": "stream",
     "text": [
      "              Missing Ratio\n",
      "PoolQC            99.657417\n",
      "MiscFeature       96.402878\n",
      "Alley             93.216855\n",
      "Fence             80.438506\n",
      "FireplaceQu       48.646797\n",
      "LotFrontage       16.649538\n",
      "GarageFinish       5.447071\n",
      "GarageYrBlt        5.447071\n",
      "GarageQual         5.447071\n",
      "GarageCond         5.447071\n",
      "GarageType         5.378554\n",
      "BsmtExposure       2.809181\n",
      "BsmtCond           2.809181\n",
      "BsmtQual           2.774923\n",
      "BsmtFinType2       2.740665\n",
      "BsmtFinType1       2.706406\n",
      "MasVnrType         0.822199\n",
      "MasVnrArea         0.787941\n",
      "MSZoning           0.137033\n",
      "BsmtFullBath       0.068517\n",
      "BsmtHalfBath       0.068517\n",
      "Utilities          0.068517\n",
      "Functional         0.068517\n",
      "Exterior2nd        0.034258\n",
      "Exterior1st        0.034258\n",
      "SaleType           0.034258\n",
      "BsmtFinSF1         0.034258\n",
      "BsmtFinSF2         0.034258\n",
      "BsmtUnfSF          0.034258\n",
      "Electrical         0.034258\n",
      "KitchenQual        0.034258\n",
      "GarageCars         0.034258\n",
      "GarageArea         0.034258\n",
      "TotalBsmtSF        0.034258\n"
     ]
    }
   ],
   "source": [
    "all_data_na = (all_data.isnull().sum() / len(all_data)) * 100\n",
    "all_data_na = all_data_na.drop(all_data_na[all_data_na == 0].index).sort_values(ascending=False)\n",
    "missing_data = pd.DataFrame({'Missing Ratio' :all_data_na})\n",
    "print(missing_data)"
   ]
  },
  {
   "cell_type": "code",
   "execution_count": 5,
   "metadata": {},
   "outputs": [],
   "source": [
    "# testデータにNanが含まれるのはまずいので全部処理する\n",
    "\n",
    "# カテゴリカル変数はとりあえずNone埋め\n",
    "for col in nominal_scales:\n",
    "    all_data[col] = all_data[col].fillna(\"None\")\n",
    "\n",
    "# 近隣の中央値埋め\n",
    "all_data[\"LotFrontage\"] = all_data.groupby(\"Neighborhood\")[\"LotFrontage\"].transform(\n",
    "    lambda x: x.fillna(x.median()))\n",
    "# 0埋め\n",
    "for col in  [i for i in unnominal_scales if i not in  [\"LotFrontage\", \"SalePrice\"]]:\n",
    "    all_data[col] = all_data[col].fillna(0)\n",
    "\n",
    "# 特徴量を正規化\n",
    "for col in [i for i in unnominal_scales if i != \"SalePrice\"]:\n",
    "    all_data[col] = all_data[col].apply(lambda x: (x-min(all_data[col]))/ (max(all_data[col]) - min(all_data[col])))"
   ]
  },
  {
   "cell_type": "code",
   "execution_count": 6,
   "metadata": {},
   "outputs": [
    {
     "name": "stderr",
     "output_type": "stream",
     "text": [
      "/Users/01014554/.pyenv/versions/3.6.5/envs/kaggle/lib/python3.6/site-packages/sklearn/ensemble/iforest.py:224: FutureWarning: behaviour=\"old\" is deprecated and will be removed in version 0.22. Please use behaviour=\"new\", which makes the decision_function change to match other anomaly detection algorithm API.\n",
      "  FutureWarning)\n"
     ]
    },
    {
     "data": {
      "text/plain": [
       "IsolationForest(behaviour='old', bootstrap=False, contamination=0.005,\n",
       "        max_features=1.0, max_samples='auto', n_estimators=500,\n",
       "        n_jobs=None, random_state=1234, verbose=0)"
      ]
     },
     "execution_count": 6,
     "metadata": {},
     "output_type": "execute_result"
    }
   ],
   "source": [
    "from sklearn.ensemble import IsolationForest\n",
    "# 外れ値処理\n",
    "\n",
    "# まずはtrainデータに分割\n",
    "train_data = pd.concat((all_data[:train_size], train_data[\"SalePrice\"]),axis=1)\n",
    "test_data = all_data[test_size:].reset_index(drop=True)\n",
    "\n",
    "# 決定木ベースで外れ値処理を行う（高次元のため）\n",
    "clf = IsolationForest(random_state=1234,n_estimators=500, contamination=0.005)\n",
    "clf.fit(train_data[unnominal_scales])"
   ]
  },
  {
   "cell_type": "code",
   "execution_count": 7,
   "metadata": {},
   "outputs": [
    {
     "name": "stderr",
     "output_type": "stream",
     "text": [
      "/Users/01014554/.pyenv/versions/3.6.5/envs/kaggle/lib/python3.6/site-packages/sklearn/ensemble/iforest.py:418: DeprecationWarning: threshold_ attribute is deprecated in 0.20 and will be removed in 0.22.\n",
      "  \" be removed in 0.22.\", DeprecationWarning)\n"
     ]
    },
    {
     "name": "stdout",
     "output_type": "stream",
     "text": [
      "外れ値個数は8\n"
     ]
    }
   ],
   "source": [
    "out_result = pd.DataFrame(clf.predict(train_data[unnominal_scales]))\n",
    "out_result.columns = ['out_flag']\n",
    "print(\"外れ値個数は{}\".format(sum(out_result[\"out_flag\"] == -1)))\n",
    "\n",
    "# out_flagが1のものだけ取り出す。\n",
    "train_data = train_data[train_data.index.isin(list(out_result[out_result[\"out_flag\"] == 1].index))].reset_index(drop=True)"
   ]
  },
  {
   "cell_type": "code",
   "execution_count": 8,
   "metadata": {},
   "outputs": [
    {
     "name": "stderr",
     "output_type": "stream",
     "text": [
      "/Users/01014554/.pyenv/versions/3.6.5/envs/kaggle/lib/python3.6/site-packages/scipy/stats/stats.py:1713: FutureWarning: Using a non-tuple sequence for multidimensional indexing is deprecated; use `arr[tuple(seq)]` instead of `arr[seq]`. In the future this will be interpreted as an array index, `arr[np.array(seq)]`, which will result either in an error or a different result.\n",
      "  return np.add.reduce(sorted[indexer] * weights, axis=axis) / sumval\n"
     ]
    },
    {
     "data": {
      "text/plain": [
       "<matplotlib.axes._subplots.AxesSubplot at 0x11f1b1ac8>"
      ]
     },
     "execution_count": 8,
     "metadata": {},
     "output_type": "execute_result"
    }
   ],
   "source": [
    "# 2. 特徴量選択\n",
    "\n",
    "## 第1問で相関係数の高いtop20を用いる\n",
    "\n",
    "cols_feature = corr_mat.nlargest(21, 'SalePrice')['SalePrice'].index\n",
    "features = [col.replace(\"_encode\", \"\") if \"_encode\" in col else col for col in cols_feature]\n",
    "new_train = train_data[features]\n",
    "\n",
    "## 目的変数の正規化\n",
    "import seaborn as sns\n",
    "from scipy.stats import norm, skew \n",
    "\n",
    "sns.distplot(new_train['SalePrice'] , fit=norm)\n",
    "\n"
   ]
  },
  {
   "cell_type": "markdown",
   "metadata": {},
   "source": [
    "- 右に裾野が広いデータになっている。\n",
    "- log変換でより正規分布に近づける"
   ]
  },
  {
   "cell_type": "code",
   "execution_count": 9,
   "metadata": {},
   "outputs": [
    {
     "name": "stderr",
     "output_type": "stream",
     "text": [
      "/Users/01014554/.pyenv/versions/3.6.5/envs/kaggle/lib/python3.6/site-packages/ipykernel_launcher.py:1: SettingWithCopyWarning: \n",
      "A value is trying to be set on a copy of a slice from a DataFrame.\n",
      "Try using .loc[row_indexer,col_indexer] = value instead\n",
      "\n",
      "See the caveats in the documentation: http://pandas.pydata.org/pandas-docs/stable/indexing.html#indexing-view-versus-copy\n",
      "  \"\"\"Entry point for launching an IPython kernel.\n"
     ]
    },
    {
     "data": {
      "text/plain": [
       "<matplotlib.axes._subplots.AxesSubplot at 0x12154d780>"
      ]
     },
     "execution_count": 9,
     "metadata": {},
     "output_type": "execute_result"
    },
    {
     "data": {
      "image/png": "[encoded data removed]",
      "text/plain": [
       "<Figure size 432x288 with 1 Axes>"
      ]
     },
     "metadata": {
      "needs_background": "light"
     },
     "output_type": "display_data"
    }
   ],
   "source": [
    "new_train[\"SalePrice\"] = np.log1p(new_train[\"SalePrice\"])\n",
    "sns.distplot(new_train[\"SalePrice\"], fit=norm)"
   ]
  },
  {
   "cell_type": "code",
   "execution_count": 10,
   "metadata": {},
   "outputs": [
    {
     "name": "stderr",
     "output_type": "stream",
     "text": [
      "/Users/01014554/.pyenv/versions/3.6.5/envs/kaggle/lib/python3.6/site-packages/ipykernel_launcher.py:4: SettingWithCopyWarning: \n",
      "A value is trying to be set on a copy of a slice from a DataFrame.\n",
      "Try using .loc[row_indexer,col_indexer] = value instead\n",
      "\n",
      "See the caveats in the documentation: http://pandas.pydata.org/pandas-docs/stable/indexing.html#indexing-view-versus-copy\n",
      "  after removing the cwd from sys.path.\n"
     ]
    }
   ],
   "source": [
    "# 目的変数を平均0,分散1に標準化\n",
    "from sklearn.preprocessing import StandardScaler\n",
    "sc = StandardScaler()\n",
    "new_train[\"SalePrice_sc\"] = sc.fit_transform(np.array(new_train[\"SalePrice\"]).reshape(-1,1))\n"
   ]
  },
  {
   "cell_type": "markdown",
   "metadata": {},
   "source": [
    "# モデリング\n",
    "\n",
    "- deep learningによる回帰モデルを採用\n",
    "\n",
    "- カテゴリー変数が多いことから単純に変数を作成すると変数膨大のため、特徴量作成や潜在的変数はdeepに任せる\n",
    "\n",
    "- カテゴリー変数部分は embedding処理をほどこしてから、連続変数とマージするアーキとする"
   ]
  },
  {
   "cell_type": "code",
   "execution_count": 11,
   "metadata": {},
   "outputs": [
    {
     "name": "stderr",
     "output_type": "stream",
     "text": [
      "/Users/01014554/.pyenv/versions/3.6.5/envs/kaggle/lib/python3.6/site-packages/chainer/_environment_check.py:38: UserWarning: Accelerate has been detected as a NumPy backend library.\n",
      "vecLib, which is a part of Accelerate, is known not to work correctly with Chainer.\n",
      "We recommend using other BLAS libraries such as OpenBLAS.\n",
      "For details of the issue, please see\n",
      "https://docs.chainer.org/en/stable/tips.html#mnist-example-does-not-converge-in-cpu-mode-on-mac-os-x.\n",
      "\n",
      "Also note that Chainer does not officially support Mac OS X.\n",
      "Please use it at your own risk.\n",
      "\n",
      "  ''')  # NOQA\n"
     ]
    }
   ],
   "source": [
    "# モデリング\n",
    "\n",
    "import numpy as np\n",
    "import chainer\n",
    "from chainer.backends import cuda\n",
    "from chainer import Function, gradient_check, report, training, utils, Variable\n",
    "from chainer import datasets, iterators, optimizers, serializers\n",
    "from chainer import Link, Chain, ChainList\n",
    "import chainer.functions as F\n",
    "import chainer.links as L\n",
    "from chainer.training import extensions\n",
    "\n",
    "category_col = [i for i in new_train.columns if new_train[i].dtypes == \"object\"]\n",
    "embed_size = {\"Neighborhood\":10, \"ExterQual\":3, \"KitchenQual\":4, \"BsmtQual\":4,\"PoolQC\":2, \"Alley\":2, \"GarageFinish\":3, \"Foundation\":5}\n",
    "feature_size = {}\n",
    "feature_dic = {}\n",
    "\n",
    "for col in category_col:\n",
    "    feature_size[col] = len(new_train[col].value_counts())\n",
    "    feature_dic[col] = {}\n",
    "    idx = 0\n",
    "    for val in new_train[col].unique():\n",
    "        feature_dic[col][val] = idx\n",
    "        idx += 1\n",
    "\n",
    "class HousePredictionModel(chainer.Chain):\n",
    "    \n",
    "    def __init__(self, out_size=1):\n",
    "        super(HousePredictionModel, self).__init__()\n",
    "        with self.init_scope():\n",
    "            for col in category_col:\n",
    "                setattr(self, \"embed_\"+col, L.EmbedID(feature_size[col], embed_size[col], ignore_label=-1))\n",
    "            self.l10 = L.Linear(None, 25) # カテゴリカル変数用\n",
    "            self.l11 = L.Linear(None, 25) # 連続変数用 \n",
    "            self.l2 = L.Linear(None, 10)\n",
    "            self.l3 = L.Linear(None, out_size)\n",
    "    \n",
    "    def __call__(self, x1, x2, x3, x4,x5,x6,x7,x8, x9, y=None):\n",
    "        val_list = [x1,x2,x3,x4,x5,x6,x7,x8]\n",
    "        h1 = F.leaky_relu(self.l11(x9)) # ここが連続変数\n",
    "        embed_h = getattr(self, \"embed_\"+category_col[0])(val_list[0])\n",
    "        for col,val in zip(category_col[1:], val_list[1:]):\n",
    "            embed_h = F.concat([embed_h, getattr(self, \"embed_\"+col)(val)], axis=1)\n",
    "        embed_h = F.leaky_relu(self.l10(embed_h))\n",
    "        h1 = F.concat([h1,embed_h], axis=1)\n",
    "        h2 = F.leaky_relu(self.l2(h1))\n",
    "        h3 = self.l3(h2)\n",
    "        if  y is None:\n",
    "            return h3\n",
    "        loss = F.mean_squared_error(h3,y)\n",
    "        report({'loss': loss}, self)\n",
    "        return loss\n"
   ]
  },
  {
   "cell_type": "code",
   "execution_count": 12,
   "metadata": {},
   "outputs": [],
   "source": [
    "# カテゴリカル変数をIDに変換する処理\n",
    "\n",
    "def make_dataset(dataset):\n",
    "    for col in [i for i in new_train.columns if new_train[i].dtypes == \"object\"]:\n",
    "        dataset[col] = dataset[col].apply(lambda x: feature_dic[col].get(x) if x in feature_dic[col].keys() else -1)\n",
    "    "
   ]
  },
  {
   "cell_type": "code",
   "execution_count": 13,
   "metadata": {},
   "outputs": [
    {
     "name": "stderr",
     "output_type": "stream",
     "text": [
      "/Users/01014554/.pyenv/versions/3.6.5/envs/kaggle/lib/python3.6/site-packages/ipykernel_launcher.py:5: SettingWithCopyWarning: \n",
      "A value is trying to be set on a copy of a slice from a DataFrame.\n",
      "Try using .loc[row_indexer,col_indexer] = value instead\n",
      "\n",
      "See the caveats in the documentation: http://pandas.pydata.org/pandas-docs/stable/indexing.html#indexing-view-versus-copy\n",
      "  \"\"\"\n"
     ]
    },
    {
     "name": "stdout",
     "output_type": "stream",
     "text": [
      "epoch       main/loss   validation/main/loss  elapsed_time\n",
      "\u001b[J10          0.442748    0.404682              1.36786       \n",
      "\u001b[J20          0.163428    0.184205              3.04627       \n",
      "\u001b[J30          0.127303    0.143559              4.44943       \n",
      "\u001b[J40          0.115293    0.132145              5.8534        \n",
      "\u001b[J50          0.108022    0.121654              7.6544        \n",
      "\u001b[J60          0.102839    0.118277              9.01816       \n",
      "\u001b[J70          0.0996258   0.113746              10.5144       \n",
      "\u001b[J80          0.0968955   0.11037               11.8116       \n",
      "\u001b[J90          0.0939554   0.108473              13.1048       \n",
      "\u001b[J100         0.0923746   0.106608              14.4429       \n",
      "\u001b[J110         0.0898719   0.105115              15.8605       \n",
      "\u001b[J120         0.0877943   0.104904              17.2461       \n",
      "\u001b[J130         0.0846299   0.101595              18.6722       \n",
      "\u001b[J140         0.0835526   0.101791              20.0529       \n",
      "\u001b[J150         0.0812558   0.0984524             21.3886       \n",
      "\u001b[J160         0.0798122   0.097743              22.887        \n",
      "\u001b[J170         0.0783604   0.0971531             24.4921       \n",
      "\u001b[J180         0.0778578   0.0950072             25.953        \n",
      "\u001b[J190         0.0768801   0.094828              27.466        \n",
      "\u001b[J200         0.075684    0.0938328             29.0209       \n",
      "\u001b[J210         0.0738809   0.0919333             30.6933       \n",
      "\u001b[J220         0.0737464   0.0929187             32.4322       \n",
      "\u001b[J230         0.0731421   0.0900793             33.8534       \n",
      "\u001b[J240         0.0711286   0.0889886             35.4395       \n",
      "\u001b[J250         0.0700699   0.0878175             36.9163       \n",
      "\u001b[J260         0.0702195   0.0878354             38.4827       \n",
      "\u001b[J270         0.0706449   0.0882758             40.0235       \n",
      "\u001b[J280         0.0688213   0.0855595             41.5          \n",
      "\u001b[J290         0.0675635   0.0866108             42.9963       \n",
      "\u001b[J300         0.0672577   0.0852416             44.3788       \n",
      "\u001b[J310         0.0657064   0.0827471             45.6651       \n",
      "\u001b[J320         0.065822    0.0834036             46.9758       \n",
      "\u001b[J330         0.0644779   0.0820129             48.2911       \n",
      "\u001b[J340         0.0643795   0.0818421             49.6558       \n",
      "\u001b[J350         0.0638983   0.0814293             51.1418       \n",
      "\u001b[J360         0.0629401   0.0798731             52.8595       \n",
      "\u001b[J370         0.0624361   0.0788914             54.335        \n",
      "\u001b[J380         0.0611712   0.0778235             55.7034       \n",
      "\u001b[J390         0.0612321   0.0776457             56.9713       \n",
      "\u001b[J400         0.0608899   0.0773901             58.208        \n",
      "\u001b[J410         0.0602651   0.0765143             59.6808       \n",
      "\u001b[J420         0.0598329   0.0765963             61.6383       \n",
      "\u001b[J430         0.0590885   0.0754347             63.1607       \n",
      "\u001b[J440         0.0587252   0.0754394             65.1799       \n",
      "\u001b[J450         0.0584764   0.0755078             68.2512       \n",
      "\u001b[J460         0.0579206   0.0743421             70.0812       \n",
      "\u001b[J470         0.0577943   0.0734685             71.3812       \n",
      "\u001b[J480         0.0573877   0.0733174             72.6975       \n",
      "\u001b[J490         0.0569051   0.0731393             75.5396       \n",
      "\u001b[J500         0.0565961   0.0729143             77.3123       \n",
      "\u001b[J510         0.0566683   0.0724599             78.6872       \n",
      "\u001b[J520         0.0560964   0.072339              80.4992       \n",
      "\u001b[J530         0.0552226   0.0732884             83.0496       \n",
      "\u001b[J540         0.0553223   0.0730354             85.7301       \n",
      "\u001b[J550         0.055267    0.0738198             87.6791       \n",
      "\u001b[J560         0.0553872   0.0729983             89.1576       \n",
      "\u001b[J570         0.054866    0.0728128             90.5991       \n",
      "\u001b[J580         0.0542132   0.0717231             92.9858       \n",
      "\u001b[J590         0.0547426   0.0719447             95.4504       \n",
      "\u001b[J600         0.0540425   0.0717291             97.8487       \n",
      "\u001b[J610         0.0538316   0.0710739             100.531       \n",
      "\u001b[J620         0.0540596   0.0715832             102.867       \n",
      "\u001b[J630         0.0532539   0.0714619             105.149       \n",
      "\u001b[J640         0.0532252   0.0721091             107.172       \n",
      "\u001b[J650         0.0530293   0.0710564             108.457       \n",
      "\u001b[J660         0.0529867   0.0712132             109.844       \n",
      "\u001b[J670         0.0526619   0.0702429             111.259       \n",
      "\u001b[J680         0.0530826   0.0700386             112.613       \n",
      "\u001b[J690         0.0527276   0.0701592             114.214       \n",
      "\u001b[J700         0.0522708   0.071302              115.661       \n",
      "\u001b[J710         0.0519486   0.0707503             117.146       \n",
      "\u001b[J720         0.0525087   0.0708027             118.884       \n",
      "\u001b[J730         0.0513722   0.0701449             120.37        \n",
      "\u001b[J740         0.0512034   0.0703732             121.841       \n",
      "\u001b[J750         0.0517291   0.0713549             123.135       \n",
      "\u001b[J760         0.0514958   0.0699624             124.51        \n",
      "\u001b[J770         0.0516119   0.0707355             125.836       \n",
      "\u001b[J780         0.0510523   0.0704795             127.847       \n",
      "\u001b[J790         0.0509935   0.0713086             129.328       \n",
      "\u001b[J800         0.0504112   0.0699364             130.854       \n",
      "\u001b[J810         0.0510179   0.0709713             132.231       \n",
      "\u001b[J820         0.0513843   0.0712919             133.638       \n",
      "\u001b[J830         0.0506154   0.0705115             135.882       \n",
      "\u001b[J840         0.0497911   0.0703225             137.849       \n",
      "\u001b[J850         0.0507404   0.0709268             139.49        \n",
      "\u001b[J860         0.0503385   0.0705463             141.182       \n",
      "\u001b[J870         0.0508899   0.0718389             142.637       \n",
      "\u001b[J880         0.049206    0.0710724             144.314       \n",
      "\u001b[J890         0.0494535   0.0709889             145.906       \n",
      "\u001b[J900         0.0498064   0.0727153             147.852       \n",
      "\u001b[J910         0.0507818   0.0716178             149.931       \n",
      "\u001b[J920         0.0496053   0.0716873             151.428       \n",
      "\u001b[J930         0.050053    0.0721995             152.914       \n",
      "\u001b[J940         0.0485676   0.0706807             154.574       \n",
      "\u001b[J950         0.0485617   0.0713283             156.075       \n",
      "\u001b[J960         0.0490714   0.0707287             157.737       \n",
      "\u001b[J970         0.0482192   0.0708292             159.549       \n",
      "\u001b[J980         0.0493736   0.0717044             161.275       \n",
      "\u001b[J990         0.0489365   0.0709872             162.891       \n",
      "\u001b[J1000        0.0489346   0.07151               164.364       \n"
     ]
    }
   ],
   "source": [
    "# 学習実施\n",
    "train_rate = 0.9\n",
    "train_size = int(len(new_train) * train_rate)\n",
    "\n",
    "train = new_train.sample(frac=1).reset_index(drop=True)[:train_size]\n",
    "test = new_train[train_size:]\n",
    "train_y = np.array(train[\"SalePrice_sc\"], dtype=np.float32).reshape(len(train), 1)\n",
    "train_x9 = np.array(train[[i for i in new_train.columns if new_train[i].dtypes != \"object\" and i not in [\"SalePrice\", \"SalePrice_sc\"]]]\n",
    "                    , dtype=np.float32)\n",
    "make_dataset(train)\n",
    "\n",
    "\n",
    "test_y = np.array(test[\"SalePrice_sc\"], dtype=np.float32).reshape(len(test), 1)\n",
    "test_x9 = np.array(test[[i for i in new_train.columns if new_train[i].dtypes != \"object\" and i not in [\"SalePrice\", \"SalePrice_sc\"]]]\n",
    "                    , dtype=np.float32)\n",
    "make_dataset(test)\n",
    "\n",
    "train_dataset = chainer.datasets.TupleDataset(\n",
    "    np.array(train[category_col[0]]),\n",
    "    np.array(train[category_col[1]]),\n",
    "    np.array(train[category_col[2]]),\n",
    "    np.array(train[category_col[3]]),\n",
    "    np.array(train[category_col[4]]),\n",
    "    np.array(train[category_col[5]]),\n",
    "    np.array(train[category_col[6]]),\n",
    "    np.array(train[category_col[7]]),\n",
    "    train_x9,\n",
    "    train_y\n",
    ")\n",
    "\n",
    "test_dataset = chainer.datasets.TupleDataset(\n",
    "    np.array(test[category_col[0]]),\n",
    "    np.array(test[category_col[1]]),\n",
    "    np.array(test[category_col[2]]),\n",
    "    np.array(test[category_col[3]]),\n",
    "    np.array(test[category_col[4]]),\n",
    "    np.array(test[category_col[5]]),\n",
    "    np.array(test[category_col[6]]),\n",
    "    np.array(test[category_col[7]]),\n",
    "    test_x9,\n",
    "    test_y\n",
    ")\n",
    "\n",
    "minibatch_size = 100\n",
    "train_iter = iterators.SerialIterator(train_dataset, minibatch_size)\n",
    "test_iter = iterators.SerialIterator(test_dataset, minibatch_size, False, False)\n",
    "\n",
    "model = HousePredictionModel()\n",
    "optimizer = optimizers.Adam()\n",
    "optimizer.setup(model)\n",
    "\n",
    "updater = training.StandardUpdater(train_iter, optimizer)\n",
    "trainer = training.Trainer(updater, (1000, 'epoch'))\n",
    "trainer.extend(extensions.Evaluator(test_iter, model))\n",
    "trainer.extend(extensions.snapshot(filename=\"model_snapshot\"), trigger=(1000, 'epoch'))\n",
    "trainer.extend(extensions.LogReport(trigger=(10, 'epoch')))\n",
    "trainer.extend(extensions.PrintReport(\n",
    "        ['epoch', 'main/loss', 'validation/main/loss', 'elapsed_time']))\n",
    "trainer.run()"
   ]
  },
  {
   "cell_type": "markdown",
   "metadata": {},
   "source": [
    "# 学習考察\n",
    "\n",
    "- 過学習を防ぐ方法もあるが、今回validation_lossも下がっていることから、過学習はしていなさそうなのでこのまま\n",
    "\n",
    "- 600epoch程度でlossの減少率が下がっていることから、今回のモデルではこの辺が限界"
   ]
  },
  {
   "cell_type": "code",
   "execution_count": 14,
   "metadata": {},
   "outputs": [],
   "source": [
    "# テストデータに関する予測\n",
    "\n",
    "test_predict_data = test_data[[i for i in features if i != \"SalePrice\"]].reset_index(drop=True)\n",
    "make_dataset(test_predict_data)\n",
    "test_predict_x9 = np.array(test_predict_data[[i for i in new_train.columns if new_train[i].dtypes != \"object\" and i not in [\"SalePrice\", \"SalePrice_sc\"]]]\n",
    "                    , dtype=np.float32)\n",
    "test_evaluator = extensions.Evaluator(test_iter, model)\n",
    "result = model(np.array(test_predict_data[category_col[0]]),\n",
    "    np.array(test_predict_data[category_col[1]]),\n",
    "    np.array(test_predict_data[category_col[2]]),\n",
    "    np.array(test_predict_data[category_col[3]]),\n",
    "    np.array(test_predict_data[category_col[4]]),\n",
    "    np.array(test_predict_data[category_col[5]]),\n",
    "    np.array(test_predict_data[category_col[6]]),\n",
    "    np.array(test_predict_data[category_col[7]]),\n",
    "    test_predict_x9)\n",
    "\n",
    "# SalePriceを基に戻す\n",
    "before_sc_result = sc.inverse_transform(result.data)\n",
    "final_result = np.expm1(before_sc_result)\n",
    "\n",
    "# final_resultが最終予測数値\n",
    "test_data[\"predict_sale_price\"] = final_result"
   ]
  }
 ],
 "metadata": {
  "kernelspec": {
   "display_name": "Python 3",
   "language": "python",
   "name": "python3"
  },
  "language_info": {
   "codemirror_mode": {
    "name": "ipython",
    "version": 3
   },
   "file_extension": ".py",
   "mimetype": "text/x-python",
   "name": "python",
   "nbconvert_exporter": "python",
   "pygments_lexer": "ipython3",
   "version": "3.6.5"
  }
 },
 "nbformat": 4,
 "nbformat_minor": 2
}
